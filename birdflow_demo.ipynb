{
 "cells": [
  {
   "cell_type": "markdown",
   "id": "7f8a3370",
   "metadata": {},
   "source": [
    "# Bifdflow: Learning Bird Population Flows from Citizen Science Data\n",
    "## Authors: Miguel Fuentes, Benjamin Van Doren, Daniel Fink, Daniel Sheldon\n",
    "![schematic](schematic_2-01.png)\n",
    "This demonstration will give an example for how to train a birdflow model and generate results from it"
   ]
  },
  {
   "cell_type": "markdown",
   "id": "602dd611",
   "metadata": {},
   "source": [
    "# Step 1: Load and Process Data"
   ]
  },
  {
   "cell_type": "code",
   "execution_count": 1,
   "id": "9731fdfc",
   "metadata": {},
   "outputs": [
    {
     "name": "stdout",
     "output_type": "stream",
     "text": [
      "data array shape:  (52, 45, 51)\n"
     ]
    }
   ],
   "source": [
    "import numpy as np\n",
    "import rasterio\n",
    "\n",
    "tif_path = \"amewoo-moll-2019-croptoextent-100.tif\"\n",
    "\n",
    "# we use rasterio to read the tif file containing the abundance date for the american woodcock\n",
    "with rasterio.open(tif_path) as src:\n",
    "    data_array = src.read()\n",
    "\n",
    "# the tif saves nan values as a large negative number, here we reset them to the numpy nan value\n",
    "NDV = -3.3e+38\n",
    "data_array[data_array<=NDV] = np.nan\n",
    "\n",
    "print(\"data array shape: \", data_array.shape)"
   ]
  },
  {
   "cell_type": "code",
   "execution_count": 2,
   "id": "a4e70ef9",
   "metadata": {},
   "outputs": [
    {
     "name": "stdout",
     "output_type": "stream",
     "text": [
      "true densities shape: (52, 1706)\n",
      "Fields in the Datatuple:\n",
      "\t weeks\n",
      "\t x_dim\n",
      "\t y_dim\n",
      "\t cells\n",
      "\t nan_mask\n"
     ]
    }
   ],
   "source": [
    "from flow_model_training import Datatuple, process_data\n",
    "\n",
    "true_densities, dtuple = process_data(data_array)\n",
    "\n",
    "# process data flattens the map to 1D, removes the NaN cells (unmodeled area), and normalizes the abundance\n",
    "print(\"true densities shape:\", true_densities.shape)\n",
    "\n",
    "# process data also returns a datatuple which contains helpful information about the data\n",
    "print(\"Fields in the Datatuple:\")\n",
    "for f in dtuple._fields:\n",
    "    print(\"\\t\", f)"
   ]
  },
  {
   "cell_type": "markdown",
   "id": "8e65ead8",
   "metadata": {},
   "source": [
    "# Step 2: Train the Model"
   ]
  },
  {
   "cell_type": "code",
   "execution_count": 3,
   "id": "210df609",
   "metadata": {},
   "outputs": [],
   "source": [
    "from flow_model_training import gen_d_matrix, loss_fn\n",
    "from jax import jit\n",
    "from functools import partial\n",
    "\n",
    "obs_weight, dist_weight, ent_weight, dist_pow = 1.0, 5.0e-3, 1.125e-3, 0.45\n",
    "\n",
    "# Generate the distance Matrix\n",
    "d_matrix = gen_d_matrix(dtuple.x_dim, dtuple.y_dim, dtuple.nan_mask)\n",
    "d_matrix = d_matrix ** dist_pow\n",
    "\n",
    "# Instantiate loss function and apply just in time compilation (jit) to speedup\n",
    "loss_fn = jit(partial(loss_fn, \n",
    "                      true_densities=true_densities, \n",
    "                      d_matrix=d_matrix, \n",
    "                      obs_weight=obs_weight, \n",
    "                      dist_weight=dist_weight,\n",
    "                      ent_weight=ent_weight))"
   ]
  },
  {
   "cell_type": "code",
   "execution_count": 4,
   "id": "034183b0",
   "metadata": {},
   "outputs": [],
   "source": [
    "from flow_model_training import train_model\n",
    "from haiku import PRNGSequence\n",
    "from optax import adam\n",
    "\n",
    "rng_seed, learning_rate, training_steps = 42, 0.1, 1000\n",
    "\n",
    "# Get the random seed and optimizer\n",
    "key = PRNGSequence(rng_seed)\n",
    "optimizer = adam(learning_rate)\n",
    "\n",
    "# Run Training and get params and losses\n",
    "params, loss_dict = train_model(loss_fn,\n",
    "                                optimizer,\n",
    "                                training_steps,\n",
    "                                dtuple.cells,\n",
    "                                dtuple.weeks,\n",
    "                                key)"
   ]
  },
  {
   "cell_type": "markdown",
   "id": "7ccef966",
   "metadata": {},
   "source": [
    "# Step 3: Query Model"
   ]
  },
  {
   "cell_type": "code",
   "execution_count": 5,
   "id": "67c1a7ca",
   "metadata": {},
   "outputs": [
    {
     "name": "stdout",
     "output_type": "stream",
     "text": [
      "the probability that a bird which is in cell 105 during week 7 is in cell 105 in week 8:  0.19709036\n"
     ]
    }
   ],
   "source": [
    "from flow_model import get_prob\n",
    "\n",
    "# use this to query the model for the probability of a particular transition, can be used to calculate ALL\n",
    "week = 7\n",
    "loc1 = 105\n",
    "loc2 = 105\n",
    "print(f\"the probability that a bird which is in cell {loc1} during week {week} is in cell {loc2} in week {week + 1}: \", get_prob(params, week, loc1, loc2))"
   ]
  },
  {
   "cell_type": "markdown",
   "id": "c6f37df4",
   "metadata": {},
   "source": [
    "# Step 4: Make Forecast"
   ]
  },
  {
   "cell_type": "code",
   "execution_count": 6,
   "id": "dcd18fed",
   "metadata": {},
   "outputs": [],
   "source": [
    "from flow_model import gen_shift_list\n",
    "\n",
    "# Since we remove non-terrestrial cells from our model, we need to shift the indices to add the water cells for plotting\n",
    "shift_list = gen_shift_list(dtuple.nan_mask)\n",
    "reverse_shifts = {i + shift : i for i, shift in enumerate(shift_list)}"
   ]
  },
  {
   "cell_type": "code",
   "execution_count": 7,
   "id": "4e45fcf2",
   "metadata": {},
   "outputs": [],
   "source": [
    "from flow_model import project_density, shift_density\n",
    "import jax.numpy as jnp\n",
    "from jax.ops import index_add, index_update, index\n",
    "\n",
    "# We are going to forecast from this position\n",
    "week1, loc1, row1, col1 = 4, 1751, 34, 17\n",
    "week2 = 13\n",
    "\n",
    "# Create an initial distribution\n",
    "shifted_start = reverse_shifts[loc1]\n",
    "init_dist = index_update(jnp.zeros(dtuple.cells), index[shifted_start], 1.0)\n",
    "\n",
    "# Apply model transitions\n",
    "init, flow = project_density(params, init_dist, t_start=week1, t_end=week2)\n",
    "densities = jnp.array([init_dist] + [f.sum(axis=0) for f in flow])\n",
    "\n",
    "# Shift to map indices\n",
    "shifted_densities = shift_density(densities, dtuple.nan_mask, dtuple.x_dim, dtuple.y_dim)\n",
    "\n",
    "# Isolate and reshape final distribution\n",
    "shifted_final = shifted_densities[-1]\n",
    "final = shifted_final.reshape(dtuple.y_dim, dtuple.x_dim)"
   ]
  },
  {
   "cell_type": "code",
   "execution_count": 8,
   "id": "7a75187e",
   "metadata": {},
   "outputs": [
    {
     "data": {
      "text/plain": [
       "Text(0.5, 1.0, 'Model Forecast vs True Transition')"
      ]
     },
     "execution_count": 8,
     "metadata": {},
     "output_type": "execute_result"
    },
    {
     "data": {
      "image/png": "[encoded data removed]",
      "text/plain": [
       "<Figure size 432x288 with 2 Axes>"
      ]
     },
     "metadata": {
      "needs_background": "light"
     },
     "output_type": "display_data"
    }
   ],
   "source": [
    "import matplotlib.pyplot as plt\n",
    "import seaborn as sns\n",
    "\n",
    "# Show Initial Position and Forecasted Distribution\n",
    "fig = plt.figure()\n",
    "ax = fig.add_subplot(1, 1, 1)\n",
    "imgplot = plt.imshow(final, cmap='icefire')\n",
    "plt.colorbar()\n",
    "ax.text(col1,\n",
    "         row1,\n",
    "         '0',\n",
    "          fontsize=6,\n",
    "         horizontalalignment='center',\n",
    "         verticalalignment='center')\n",
    "\n",
    "ax.set_title(\"Model Forecast vs True Transition\")"
   ]
  },
  {
   "cell_type": "code",
   "execution_count": null,
   "id": "2b55dacf",
   "metadata": {},
   "outputs": [],
   "source": []
  }
 ],
 "metadata": {
  "kernelspec": {
   "display_name": "Python 3",
   "language": "python",
   "name": "python3"
  },
  "language_info": {
   "codemirror_mode": {
    "name": "ipython",
    "version": 3
   },
   "file_extension": ".py",
   "mimetype": "text/x-python",
   "name": "python",
   "nbconvert_exporter": "python",
   "pygments_lexer": "ipython3",
   "version": "3.8.10"
  }
 },
 "nbformat": 4,
 "nbformat_minor": 5
}
